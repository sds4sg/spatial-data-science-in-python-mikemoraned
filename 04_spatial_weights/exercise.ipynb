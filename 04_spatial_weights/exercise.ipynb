{
 "cells": [
  {
   "cell_type": "code",
   "execution_count": null,
   "id": "e49d4ee9-5f12-4ed4-9e66-eff83c4f83df",
   "metadata": {},
   "outputs": [],
   "source": [
    "import matplotlib.pyplot as plt\n",
    "import contextily\n",
    "import geopandas as gpd\n",
    "import numpy as np\n",
    "import pandas as pd\n",
    "import seaborn as sns\n",
    "\n",
    "from libpysal import graph"
   ]
  },
  {
   "cell_type": "code",
   "execution_count": null,
   "id": "05fed324-d0a2-4854-9869-59c394d1699f",
   "metadata": {},
   "outputs": [],
   "source": [
    "# zones = gpd.read_file(\"zony_suburbanizace_2008_2016_1686045460629771227\")\n",
    "zones = gpd.read_file(\"zony_suburbanizace_2008_2016\")\n",
    "zones.set_index(\"OBJECTID\")\n",
    "zones"
   ]
  },
  {
   "cell_type": "code",
   "execution_count": null,
   "id": "69e2bb08-f6ce-44cd-98b4-2b7606f4fe80",
   "metadata": {},
   "outputs": [],
   "source": [
    "zones.describe()"
   ]
  },
  {
   "cell_type": "code",
   "execution_count": null,
   "id": "3daf663f-97ae-41c2-b483-36f5967a7c38",
   "metadata": {},
   "outputs": [],
   "source": [
    "zones.explore()"
   ]
  },
  {
   "cell_type": "code",
   "execution_count": null,
   "id": "3f3b96cf-bd04-4a7d-9c80-91c0f0b219b2",
   "metadata": {},
   "outputs": [],
   "source": [
    "queen = graph.Graph.build_contiguity(zones, rook=False)\n",
    "queen"
   ]
  },
  {
   "cell_type": "code",
   "execution_count": null,
   "id": "47175ce2-f36c-42be-ac34-3f523778478e",
   "metadata": {},
   "outputs": [],
   "source": [
    "queen[891]"
   ]
  },
  {
   "cell_type": "code",
   "execution_count": null,
   "id": "f0651f32-9b82-4364-98cf-d09d2ab29798",
   "metadata": {},
   "outputs": [],
   "source": [
    "m = zones.explore()\n",
    "queen.explore(\n",
    "    zones, m=m, edge_kws=dict(style_kwds=dict(weight=1)), nodes=False\n",
    ")"
   ]
  },
  {
   "cell_type": "code",
   "execution_count": null,
   "id": "0ccd62a4-ada6-4075-a46d-87c0d4a3ee10",
   "metadata": {},
   "outputs": [],
   "source": [
    "queen.summary()"
   ]
  },
  {
   "cell_type": "code",
   "execution_count": null,
   "id": "99fa5980-36ea-4126-bc9a-aac3d90ba2fd",
   "metadata": {},
   "outputs": [],
   "source": [
    "queen.isolates"
   ]
  },
  {
   "cell_type": "code",
   "execution_count": null,
   "id": "ca0651dd-cd28-4080-942b-d5a5d13910f7",
   "metadata": {},
   "outputs": [],
   "source": [
    "zones.head()"
   ]
  },
  {
   "cell_type": "code",
   "execution_count": null,
   "id": "74a2cf54-d227-4646-bb41-5fbe0c0acad3",
   "metadata": {},
   "outputs": [],
   "source": [
    "zones.columns"
   ]
  },
  {
   "cell_type": "code",
   "execution_count": null,
   "id": "e468728a-799e-4386-aeb2-50e7ef9ab512",
   "metadata": {},
   "outputs": [],
   "source": [
    "block = graph.Graph.build_block_contiguity(zones['NUTS2_kod'])\n",
    "block"
   ]
  },
  {
   "cell_type": "code",
   "execution_count": null,
   "id": "8c7183dd-99dd-49d8-9d56-b3ac3ce23179",
   "metadata": {},
   "outputs": [],
   "source": [
    "ax = block.plot(zones, nodes=False, edge_kws={\"linewidth\": .5})\n",
    "contextily.add_basemap(ax=ax, crs=zones.crs, source=\"CartoDB Positron\")\n",
    "ax.set_axis_off()"
   ]
  },
  {
   "cell_type": "code",
   "execution_count": null,
   "id": "eb3e909a-3f32-44d1-9afc-7b18e35e6930",
   "metadata": {},
   "outputs": [],
   "source": [
    "ax = block.plot(zones, nodes=False, edge_kws={\"linewidth\": .1})\n",
    "contextily.add_basemap(ax=ax, crs=zones.crs, source=\"CartoDB Positron\")\n",
    "ax.set_axis_off()"
   ]
  },
  {
   "cell_type": "code",
   "execution_count": null,
   "id": "4f13989a-4342-4208-a728-0736195807b8",
   "metadata": {},
   "outputs": [],
   "source": [
    "ax = block.plot(zones, nodes=False, edge_kws={\"linewidth\": .01})\n",
    "contextily.add_basemap(ax=ax, crs=zones.crs, source=\"CartoDB Positron\")\n",
    "ax.set_axis_off()"
   ]
  },
  {
   "cell_type": "code",
   "execution_count": null,
   "id": "d93ffc26-e98e-4eaa-bb94-c5c00170edb7",
   "metadata": {},
   "outputs": [],
   "source": [
    "zones[\"centroid\"] = zones.centroid\n",
    "zones = zones.set_geometry(\"centroid\")\n",
    "knn5 = graph.Graph.build_knn(zones, k=5)\n",
    "knn5"
   ]
  },
  {
   "cell_type": "code",
   "execution_count": null,
   "id": "efefee93-c46f-43d4-bc91-f36fd79346d5",
   "metadata": {},
   "outputs": [],
   "source": [
    "ax = knn5.plot(zones, nodes=False, edge_kws={\"linewidth\": .5})\n",
    "contextily.add_basemap(ax=ax, crs=zones.crs, source=\"CartoDB Positron\")\n",
    "ax.set_axis_off()"
   ]
  },
  {
   "cell_type": "code",
   "execution_count": null,
   "id": "5901520d-b53a-4bfe-ac1d-589e24528893",
   "metadata": {},
   "outputs": [],
   "source": [
    "pts = pd.DataFrame(\n",
    "    {\"X\": zones.geometry.x, \"Y\": zones.geometry.y}\n",
    ").values\n",
    "knn5_from_pts = graph.Graph.build_knn(pts, k=5)\n",
    "knn5_from_pts"
   ]
  },
  {
   "cell_type": "code",
   "execution_count": null,
   "id": "a583d583-11ed-4268-9653-97d8f1f3ec79",
   "metadata": {},
   "outputs": [],
   "source": [
    "ax = knn5_from_pts.plot(zones, nodes=False, edge_kws={\"linewidth\": .5})\n",
    "contextily.add_basemap(ax=ax, crs=zones.crs, source=\"CartoDB Positron\")\n",
    "ax.set_axis_off()"
   ]
  },
  {
   "cell_type": "code",
   "execution_count": null,
   "id": "820d31da-56e0-4fa8-a0c1-ca670bc43ed2",
   "metadata": {},
   "outputs": [],
   "source": []
  }
 ],
 "metadata": {
  "kernelspec": {
   "display_name": "Python 3 (ipykernel)",
   "language": "python",
   "name": "python3"
  },
  "language_info": {
   "codemirror_mode": {
    "name": "ipython",
    "version": 3
   },
   "file_extension": ".py",
   "mimetype": "text/x-python",
   "name": "python",
   "nbconvert_exporter": "python",
   "pygments_lexer": "ipython3",
   "version": "3.12.11"
  }
 },
 "nbformat": 4,
 "nbformat_minor": 5
}
