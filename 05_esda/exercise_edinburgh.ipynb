{
 "cells": [
  {
   "cell_type": "code",
   "execution_count": null,
   "id": "e5b85dad-092e-48f3-becf-6c6e96543f59",
   "metadata": {},
   "outputs": [],
   "source": [
    "import matplotlib.pyplot as plt\n",
    "import geopandas as gpd\n",
    "import pandas as pd\n",
    "import seaborn as sns\n",
    "import esda\n",
    "\n",
    "from libpysal import graph"
   ]
  },
  {
   "cell_type": "code",
   "execution_count": null,
   "id": "94e8ad93-661b-40ba-96cb-d70bb376361b",
   "metadata": {},
   "outputs": [],
   "source": [
    "simd = gpd.read_file(\"SG_SIMD_2020\")\n",
    "simd.set_index(\"DataZone\")\n",
    "simd"
   ]
  },
  {
   "cell_type": "code",
   "execution_count": null,
   "id": "7d3f5e1b-b7ea-4341-b445-487c8e86c35b",
   "metadata": {},
   "outputs": [],
   "source": [
    "simd.explore()"
   ]
  },
  {
   "cell_type": "code",
   "execution_count": null,
   "id": "f5312800-078d-4fc5-9a34-ded608ccf2d0",
   "metadata": {},
   "outputs": [],
   "source": [
    "simd_city = simd.loc[simd[\"LAName\"] == \"City of Edinburgh\"].copy()\n",
    "simd_city"
   ]
  },
  {
   "cell_type": "code",
   "execution_count": null,
   "id": "cbbedb17-1e0a-4d4c-bb0c-ff694b64d67f",
   "metadata": {},
   "outputs": [],
   "source": [
    "simd_city.explore()"
   ]
  },
  {
   "cell_type": "code",
   "execution_count": null,
   "id": "745c5cc1-39c7-4980-b015-82ad58c6a4c0",
   "metadata": {},
   "outputs": [],
   "source": [
    "simd_city[\"Rankv2\"]"
   ]
  },
  {
   "cell_type": "code",
   "execution_count": null,
   "id": "baa1e736-342d-4569-a05a-e02816eae43a",
   "metadata": {},
   "outputs": [],
   "source": [
    "simd_city.explore(\n",
    "    \"Rankv2\",\n",
    "    cmap=\"coolwarm\",\n",
    "    prefer_canvas=True,\n",
    "    tiles=\"CartoDB Positron\",\n",
    ")"
   ]
  },
  {
   "cell_type": "code",
   "execution_count": null,
   "id": "f6141fef-efd1-4706-a3e3-75c8be9e59d5",
   "metadata": {},
   "outputs": [],
   "source": [
    "contiguity = graph.Graph.build_contiguity(simd_city, rook=False)\n",
    "contiguity"
   ]
  },
  {
   "cell_type": "code",
   "execution_count": null,
   "id": "cf964e31-cdaf-4df5-8ce4-62e807fe1efc",
   "metadata": {},
   "outputs": [],
   "source": [
    "contiguity_r = contiguity.transform(\"r\")\n",
    "contiguity_r"
   ]
  },
  {
   "cell_type": "code",
   "execution_count": null,
   "id": "95c4a460-2bc5-4886-8b5f-babb95cf5dcf",
   "metadata": {},
   "outputs": [],
   "source": [
    "simd_city_ranked = simd_city.copy()"
   ]
  },
  {
   "cell_type": "code",
   "execution_count": null,
   "id": "aecaab2c-0347-4092-993d-a13fcfd1ec44",
   "metadata": {},
   "outputs": [],
   "source": [
    "rankv2_mean = simd_city[\"Rankv2\"].mean()\n",
    "rankv2_mean"
   ]
  },
  {
   "cell_type": "code",
   "execution_count": null,
   "id": "dff21b5c-0cd4-4548-b03c-f44ca2ecf810",
   "metadata": {},
   "outputs": [],
   "source": [
    "simd_city_ranked[\"Rankv2_above_mean\"] = (simd_city[\"Rankv2\"] > rankv2_mean).astype(int)\n",
    "simd_city_ranked"
   ]
  },
  {
   "cell_type": "code",
   "execution_count": null,
   "id": "be002aa8-3036-41c1-bd0c-c75a91013446",
   "metadata": {},
   "outputs": [],
   "source": [
    "_ = simd_city_ranked.plot(\"Rankv2_above_mean\", cmap=\"binary\", linewidth=.1, edgecolor=\"grey\")"
   ]
  },
  {
   "cell_type": "code",
   "execution_count": null,
   "id": "75751b5f-aed7-4e91-9442-948a8e3e5b15",
   "metadata": {},
   "outputs": [],
   "source": [
    "jc = esda.Join_Counts(\n",
    "    simd_city_ranked[\"Rankv2_above_mean\"],\n",
    "    contiguity\n",
    ")"
   ]
  },
  {
   "cell_type": "code",
   "execution_count": null,
   "id": "7b78f72a-b3c6-4aed-b93a-7172f102b9cf",
   "metadata": {},
   "outputs": [],
   "source": [
    "(jc.bb, jc.ww, jc.bw)"
   ]
  },
  {
   "cell_type": "code",
   "execution_count": null,
   "id": "016a9db2-6254-49e7-ad98-188360c6ce5b",
   "metadata": {},
   "outputs": [],
   "source": [
    "jc.p_sim_bb"
   ]
  },
  {
   "cell_type": "code",
   "execution_count": null,
   "id": "1b38a4a4-44a1-4a6b-b089-6c9f403eebb1",
   "metadata": {},
   "outputs": [],
   "source": [
    "simd_city_moran = simd_city_ranked.copy()"
   ]
  },
  {
   "cell_type": "code",
   "execution_count": null,
   "id": "b39b81e8-a27f-4e69-a8e1-9114a3820db6",
   "metadata": {},
   "outputs": [],
   "source": [
    "std = simd_city_ranked[\"Rankv2\"].std()\n",
    "std"
   ]
  },
  {
   "cell_type": "code",
   "execution_count": null,
   "id": "4d083121-29cc-4cf1-98cd-757699313635",
   "metadata": {},
   "outputs": [],
   "source": [
    "mean = simd_city_ranked[\"Rankv2\"].mean()\n",
    "mean"
   ]
  },
  {
   "cell_type": "code",
   "execution_count": null,
   "id": "027204c0-ecbe-4ce3-98f4-f270c458f55a",
   "metadata": {},
   "outputs": [],
   "source": [
    "simd_city_moran[\"Rankv2_std\"] = (simd_city_ranked[\"Rankv2\"] - mean) / std\n",
    "simd_city_moran[\"Rankv2_std\"]"
   ]
  },
  {
   "cell_type": "code",
   "execution_count": null,
   "id": "2257b9be-2aa1-4745-a47b-c22a1581eb38",
   "metadata": {},
   "outputs": [],
   "source": [
    "contiguity_r"
   ]
  },
  {
   "cell_type": "code",
   "execution_count": null,
   "id": "8c79605a-eca7-477a-a2a8-24ecbb2ba5d5",
   "metadata": {},
   "outputs": [],
   "source": [
    "simd_city_moran[\"Rankv2_std_lag\"] = contiguity_r.lag(simd_city_moran[\"Rankv2_std\"])\n",
    "simd_city_moran[\"Rankv2_std_lag\"]"
   ]
  },
  {
   "cell_type": "code",
   "execution_count": null,
   "id": "c7ca0c9a-073f-486b-bbc8-7d576939936d",
   "metadata": {},
   "outputs": [],
   "source": [
    "_ = simd_city_moran[\"Rankv2_std\"].plot()"
   ]
  },
  {
   "cell_type": "code",
   "execution_count": null,
   "id": "7987aa07-d63f-4125-b216-ecfe304baa34",
   "metadata": {},
   "outputs": [],
   "source": [
    "f, ax = plt.subplots(1, figsize=(6, 6))\n",
    "sns.regplot(\n",
    "    x=\"Rankv2_std\",\n",
    "    y=\"Rankv2_std_lag\",\n",
    "    data=simd_city_moran,\n",
    "    marker=\".\",\n",
    "    # scatter_kws={\"alpha\": 0.2},\n",
    "    # line_kws=dict(color=\"lightcoral\")\n",
    ")\n",
    "ax.set_aspect('equal')\n",
    "plt.axvline(0, c=\"black\", alpha=0.5)\n",
    "plt.axhline(0, c=\"black\", alpha=0.5)"
   ]
  },
  {
   "cell_type": "code",
   "execution_count": null,
   "id": "32284bd5-e939-420a-961e-4ecde3616160",
   "metadata": {},
   "outputs": [],
   "source": [
    "mi = esda.Moran(simd_city['Rankv2'], contiguity_r)"
   ]
  },
  {
   "cell_type": "code",
   "execution_count": null,
   "id": "cce6222e-bad1-4a69-acf5-356a01d724a7",
   "metadata": {},
   "outputs": [],
   "source": [
    "mi.I"
   ]
  },
  {
   "cell_type": "code",
   "execution_count": null,
   "id": "d11f9e36-ffed-4fde-9765-41f9de625cde",
   "metadata": {},
   "outputs": [],
   "source": [
    "mi.p_sim"
   ]
  },
  {
   "cell_type": "code",
   "execution_count": null,
   "id": "3d96be7a-6d6e-43b6-8d05-408534a39f14",
   "metadata": {},
   "outputs": [],
   "source": [
    "lisa = esda.Moran_Local(simd_city['Rankv2'], contiguity_r)"
   ]
  },
  {
   "cell_type": "code",
   "execution_count": null,
   "id": "08c614fb-5caa-44f6-bc5b-7d6784c629aa",
   "metadata": {},
   "outputs": [],
   "source": [
    "simd_city_lisa = simd_city.copy()"
   ]
  },
  {
   "cell_type": "code",
   "execution_count": null,
   "id": "84e3aac1-4b8e-4e10-923c-c9ca0ba8d5ba",
   "metadata": {},
   "outputs": [],
   "source": [
    "simd_city_lisa['cluster'] = lisa.get_cluster_labels(crit_value=0.05)\n",
    "simd_city_lisa.head()"
   ]
  },
  {
   "cell_type": "code",
   "execution_count": null,
   "id": "df1c2ab0-6df1-433a-afee-20e7bc5633ab",
   "metadata": {},
   "outputs": [],
   "source": [
    "lisa.explore(\n",
    "  simd_city_lisa,\n",
    "  crit_value=0.05,\n",
    "  prefer_canvas=True,\n",
    "  tiles=\"CartoDB Positron\",\n",
    ")"
   ]
  },
  {
   "cell_type": "code",
   "execution_count": null,
   "id": "7b99c23c-4256-49a2-99c5-37f7443693e8",
   "metadata": {},
   "outputs": [],
   "source": [
    "_ = lisa.plot_scatter()"
   ]
  },
  {
   "cell_type": "code",
   "execution_count": null,
   "id": "df8d7454-47d1-4669-a523-727d83c103aa",
   "metadata": {},
   "outputs": [],
   "source": [
    "lisa.explore(\n",
    "  simd_city_lisa,\n",
    "  crit_value=0.01,\n",
    "  prefer_canvas=True,\n",
    "  tiles=\"CartoDB Positron\",\n",
    ")"
   ]
  },
  {
   "cell_type": "code",
   "execution_count": null,
   "id": "cfb2ace6-af8c-4e0a-a923-d0fe56efc875",
   "metadata": {},
   "outputs": [],
   "source": [
    "lisa.explore(\n",
    "  simd_city_lisa,\n",
    "  crit_value=0.1,\n",
    "  prefer_canvas=True,\n",
    "  tiles=\"CartoDB Positron\",\n",
    ")"
   ]
  },
  {
   "cell_type": "code",
   "execution_count": null,
   "id": "e0f5cf0a-6895-43f7-9358-2a0e85eb8bad",
   "metadata": {},
   "outputs": [],
   "source": [
    "simd_city_lisa.loc[:,(\"Rankv2\",\"cluster\",\"geometry\")].explore(\n",
    "    \"Rankv2\",\n",
    "    cmap=\"coolwarm\",\n",
    "    prefer_canvas=True,\n",
    "    tiles=\"CartoDB Positron\",\n",
    ")"
   ]
  },
  {
   "cell_type": "code",
   "execution_count": null,
   "id": "045d41b5-93e1-463e-b25f-083cf885470d",
   "metadata": {},
   "outputs": [],
   "source": [
    "lisa.explore(\n",
    "  simd_city_lisa,\n",
    "  crit_value=0.05,\n",
    "  prefer_canvas=True,\n",
    "  tiles=\"CartoDB Positron\",\n",
    ")"
   ]
  },
  {
   "cell_type": "code",
   "execution_count": null,
   "id": "c76ca1c7-9183-4b1d-b797-af0e9c1ea4b1",
   "metadata": {},
   "outputs": [],
   "source": [
    "simd_city_lisa.loc[:,(\"Rankv2\",\"cluster\",\"geometry\")].loc[simd_city_lisa[\"cluster\"] != \"Insignificant\"].explore(\n",
    "    \"Rankv2\",\n",
    "    cmap=\"coolwarm\",\n",
    "    prefer_canvas=True,\n",
    "    tiles=\"CartoDB Positron\",\n",
    ")"
   ]
  },
  {
   "cell_type": "code",
   "execution_count": null,
   "id": "7460d133-276e-4ee9-84df-a50b8fbc77ff",
   "metadata": {},
   "outputs": [],
   "source": [
    "simd_city_lisa.loc[:,(\"DZName\",\"Rankv2\",\"cluster\",\"geometry\")].loc[simd_city_lisa[\"cluster\"] != \"Insignificant\"].explore(\n",
    "    \"Rankv2\",\n",
    "    cmap=\"coolwarm_r\",\n",
    "    prefer_canvas=True,\n",
    "    tiles=\"CartoDB Positron\",\n",
    ")"
   ]
  },
  {
   "cell_type": "code",
   "execution_count": null,
   "id": "9d5f5a21-3423-47ac-8e46-093ef173a9bb",
   "metadata": {},
   "outputs": [],
   "source": [
    "simd_city_lisa.loc[:,(\"DZName\",\"Rankv2\",\"cluster\",\"geometry\")].explore(\n",
    "    \"Rankv2\",\n",
    "    cmap=\"coolwarm_r\",\n",
    "    prefer_canvas=True,\n",
    "    tiles=\"CartoDB Positron\",\n",
    ")"
   ]
  },
  {
   "cell_type": "code",
   "execution_count": null,
   "id": "f71fd271-df59-421c-b869-b37e9918a32d",
   "metadata": {},
   "outputs": [],
   "source": []
  }
 ],
 "metadata": {
  "kernelspec": {
   "display_name": "Python 3 (ipykernel)",
   "language": "python",
   "name": "python3"
  },
  "language_info": {
   "codemirror_mode": {
    "name": "ipython",
    "version": 3
   },
   "file_extension": ".py",
   "mimetype": "text/x-python",
   "name": "python",
   "nbconvert_exporter": "python",
   "pygments_lexer": "ipython3",
   "version": "3.12.11"
  }
 },
 "nbformat": 4,
 "nbformat_minor": 5
}
